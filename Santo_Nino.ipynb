{
  "nbformat": 4,
  "nbformat_minor": 0,
  "metadata": {
    "colab": {
      "name": "Santo Nino.ipynb",
      "provenance": [],
      "collapsed_sections": []
    },
    "kernelspec": {
      "name": "python3",
      "display_name": "Python 3"
    },
    "language_info": {
      "name": "python"
    }
  },
  "cells": [
    {
      "cell_type": "markdown",
      "metadata": {
        "id": "-LJf-WvVnj6X"
      },
      "source": [
        "# Initialise GEE, and create a folium map with GEE imagery layer"
      ]
    },
    {
      "cell_type": "code",
      "metadata": {
        "colab": {
          "base_uri": "https://localhost:8080/"
        },
        "id": "JjDAkoTvmPec",
        "outputId": "c4e15e5a-7109-4f0c-d7bc-d8bfa624b61e"
      },
      "source": [
        "import ee\n",
        "ee.Authenticate()\n",
        "\n",
        "ee.Initialize()\n"
      ],
      "execution_count": null,
      "outputs": [
        {
          "output_type": "stream",
          "text": [
            "To authorize access needed by Earth Engine, open the following URL in a web browser and follow the instructions. If the web browser does not start automatically, please manually browse the URL below.\n",
            "\n",
            "    https://accounts.google.com/o/oauth2/auth?client_id=517222506229-vsmmajv00ul0bs7p89v5m89qs8eb9359.apps.googleusercontent.com&scope=https%3A%2F%2Fwww.googleapis.com%2Fauth%2Fearthengine+https%3A%2F%2Fwww.googleapis.com%2Fauth%2Fdevstorage.full_control&redirect_uri=urn%3Aietf%3Awg%3Aoauth%3A2.0%3Aoob&response_type=code&code_challenge=ink_fnuStO1lWTjk7vtcvALHU0qtXS-Wo_FWQ5WpTqA&code_challenge_method=S256\n",
            "\n",
            "The authorization workflow will generate a code, which you should paste in the box below. \n",
            "Enter verification code: 4/1AX4XfWgxqfYaGy2zjiYqjhAf5in5VC6lS2pzOMLDuJ66SXx7YKdCuZP86ow\n",
            "\n",
            "Successfully saved authorization token.\n"
          ],
          "name": "stdout"
        }
      ]
    },
    {
      "cell_type": "code",
      "metadata": {
        "id": "g12ZlLq_vPvR"
      },
      "source": [
        "import folium\n",
        "from datetime import datetime as dt\n",
        "\n",
        "def add_ee_layer(self, ee_image_object, vis_params, name):\n",
        "  \"\"\"Adds a method for displaying Earth Engine image tiles to folium map.\"\"\"\n",
        "  # This function is copied from the GEE tutorial\n",
        "  map_id_dict = ee.Image(ee_image_object).getMapId(vis_params)\n",
        "  folium.raster_layers.TileLayer(\n",
        "      tiles=map_id_dict['tile_fetcher'].url_format,\n",
        "      attr='Map Data &copy; <a href=\"https://earthengine.google.com/\">Google Earth Engine</a>',\n",
        "      name=name,\n",
        "      overlay=True,\n",
        "      control=True\n",
        "  ).add_to(self)\n",
        "\n",
        "def image_name(ima:'ee.Image',sat:str):\n",
        "  '''Define a function to name the satelitte imagery layer on the Map depending on its acquisition time'''\n",
        "  date = ee.Date(ima.get('system:time_start'))\n",
        "  time = date.getInfo()['value']/1000.\n",
        "  name_ = sat + dt.utcfromtimestamp(time).strftime('%Y-%m-%d %H:%M:%S')\n",
        "  return name_\n",
        "\n",
        "\n",
        "# Add Earth Engine drawing method to folium.\n",
        "folium.Map.add_ee_layer = add_ee_layer\n",
        "\n",
        "# Define a map\n",
        "map_1 = folium.Map(location=[16.49, 120.656], zoom_start=8, height='80%', control_scale = True)  # [lat, lon]\n",
        "\n",
        "aoi=ee.Geometry.Point(120.656,16.49)  # [lon, lat]\n"
      ],
      "execution_count": null,
      "outputs": []
    },
    {
      "cell_type": "code",
      "metadata": {
        "id": "KNCn5NzWRxRJ"
      },
      "source": [
        "sen_2 = (ee.ImageCollection('COPERNICUS/S2_SR')\n",
        "         .filterBounds(aoi) #[lon, lat]\n",
        "         .filterDate('2021-06-01', '2021-06-30')\n",
        "         .sort('CLOUDY_PIXEL_PERCENTAGE')\n",
        "         .first())\n",
        "\n",
        "# Add the image layer to the map and display it.\n",
        "map_1.add_ee_layer(\n",
        "    sen_2, {'bands': ['B4', 'B3', 'B2'], 'min': 0, 'max': 2000}, image_name(sen_2,\"Sentinel 2  \"))\n"
      ],
      "execution_count": null,
      "outputs": []
    },
    {
      "cell_type": "code",
      "metadata": {
        "id": "xYQAALwgSfZu"
      },
      "source": [
        "sen_2a = (ee.ImageCollection('COPERNICUS/S2_SR')\n",
        "         .filterBounds(aoi) #[lon, lat]\n",
        "         .filterDate('2019-06-01', '2019-06-30')\n",
        "         .sort('CLOUDY_PIXEL_PERCENTAGE')\n",
        "         .first())\n",
        "\n",
        "# Add the image layer to the map and display it.\n",
        "map_1.add_ee_layer(\n",
        "    sen_2a, {'bands': ['B4', 'B3', 'B2'], 'min': 0, 'max': 2000}, image_name(sen_2a, 'Sentinel 2  ') )\n"
      ],
      "execution_count": null,
      "outputs": []
    },
    {
      "cell_type": "code",
      "metadata": {
        "id": "9MzLu_uvDTPw"
      },
      "source": [
        "lan_7 = (ee.ImageCollection(\"LANDSAT/LE07/C02/T1_L2\")\n",
        "         .filterBounds(aoi) #[lon, lat]\n",
        "         .filterDate('2002-06-01', '2002-09-30')\n",
        "         .sort('CLOUD_COVER')\n",
        "         .first())\n",
        "\n",
        "# Add the image layer to the map and display it.\n",
        "map_1.add_ee_layer(\n",
        "    lan_7, {'bands': ['SR_B3', 'SR_B2', 'SR_B1'], 'min': 7000, 'max': 13000}, image_name(lan_7,'Landsat 7  '))\n"
      ],
      "execution_count": null,
      "outputs": []
    },
    {
      "cell_type": "code",
      "metadata": {
        "id": "Suzds81FP4Cu"
      },
      "source": [
        "lan_8 = (ee.ImageCollection(\"LANDSAT/LC08/C02/T1_L2\")\n",
        "         .filterBounds(aoi) #[lon, lat]\n",
        "         .filterDate('2014-06-01', '2014-09-30')\n",
        "         .sort('CLOUD_COVER')\n",
        "         .first())\n",
        "\n",
        "# Add the image layer to the map and display it.\n",
        "map_1.add_ee_layer(\n",
        "    lan_8, {'bands': ['SR_B4', 'SR_B3', 'SR_B2'], 'min': 7000, 'max': 13000}, image_name(lan_8, 'Landsat 8  ') )\n"
      ],
      "execution_count": null,
      "outputs": []
    },
    {
      "cell_type": "code",
      "metadata": {
        "id": "pWBSxuloRzjF"
      },
      "source": [
        "lan_8a = (ee.ImageCollection(\"LANDSAT/LC08/C02/T1_L2\")\n",
        "         .filterBounds(aoi) #[lon, lat]\n",
        "         .filterDate('2021-06-01', '2021-09-30')\n",
        "         .sort('CLOUD_COVER')\n",
        "         .first())\n",
        "\n",
        "# Add the image layer to the map and display it.\n",
        "map_1.add_ee_layer(\n",
        "    lan_8a, {'bands': ['SR_B4', 'SR_B3', 'SR_B2'], 'min': 7000, 'max': 13000}, image_name(lan_8a,'Landsat 8  ') )  #or 6000,12000?\n"
      ],
      "execution_count": null,
      "outputs": []
    },
    {
      "cell_type": "code",
      "metadata": {
        "colab": {
          "base_uri": "https://localhost:8080/",
          "height": 730
        },
        "id": "pHFnb3CXEsoD",
        "outputId": "febf1ba6-3741-450f-836a-4b87a6ff71ff"
      },
      "source": [
        "# Adding a marker for the mining site\n",
        "folium.Marker(location=[16.49, 120.656], tooltip=\"Santo Niño Mine\").add_to(map_1) #[lat, lon]\n",
        "\n",
        "\n",
        "# Add a layer control panel to the map.\n",
        "map_1.add_child(folium.LayerControl())\n",
        "\n",
        "display(map_1)\n"
      ],
      "execution_count": null,
      "outputs": [
        {
          "output_type": "display_data",
          "data": {
            "text/html": [
              "<div style=\"width:100%;\"><div style=\"position:relative;width:100%;height:0;padding-bottom:60%;\"><span style=\"color:#565656\">Make this Notebook Trusted to load map: File -> Trust Notebook</span><iframe src=\"about:blank\" style=\"position:absolute;width:100%;height:100%;left:0;top:0;border:none !important;\" data-html=%3C%21DOCTYPE%20html%3E%0A%3Chead%3E%20%20%20%20%0A%20%20%20%20%3Cmeta%20http-equiv%3D%22content-type%22%20content%3D%22text/html%3B%20charset%3DUTF-8%22%20/%3E%0A%20%20%20%20%3Cscript%3EL_PREFER_CANVAS%3Dfalse%3B%20L_NO_TOUCH%3Dfalse%3B%20L_DISABLE_3D%3Dfalse%3B%3C/script%3E%0A%20%20%20%20%3Cscript%20src%3D%22https%3A//cdn.jsdelivr.net/npm/leaflet%401.4.0/dist/leaflet.js%22%3E%3C/script%3E%0A%20%20%20%20%3Cscript%20src%3D%22https%3A//code.jquery.com/jquery-1.12.4.min.js%22%3E%3C/script%3E%0A%20%20%20%20%3Cscript%20src%3D%22https%3A//maxcdn.bootstrapcdn.com/bootstrap/3.2.0/js/bootstrap.min.js%22%3E%3C/script%3E%0A%20%20%20%20%3Cscript%20src%3D%22https%3A//cdnjs.cloudflare.com/ajax/libs/Leaflet.awesome-markers/2.0.2/leaflet.awesome-markers.js%22%3E%3C/script%3E%0A%20%20%20%20%3Clink%20rel%3D%22stylesheet%22%20href%3D%22https%3A//cdn.jsdelivr.net/npm/leaflet%401.4.0/dist/leaflet.css%22/%3E%0A%20%20%20%20%3Clink%20rel%3D%22stylesheet%22%20href%3D%22https%3A//maxcdn.bootstrapcdn.com/bootstrap/3.2.0/css/bootstrap.min.css%22/%3E%0A%20%20%20%20%3Clink%20rel%3D%22stylesheet%22%20href%3D%22https%3A//maxcdn.bootstrapcdn.com/bootstrap/3.2.0/css/bootstrap-theme.min.css%22/%3E%0A%20%20%20%20%3Clink%20rel%3D%22stylesheet%22%20href%3D%22https%3A//maxcdn.bootstrapcdn.com/font-awesome/4.6.3/css/font-awesome.min.css%22/%3E%0A%20%20%20%20%3Clink%20rel%3D%22stylesheet%22%20href%3D%22https%3A//cdnjs.cloudflare.com/ajax/libs/Leaflet.awesome-markers/2.0.2/leaflet.awesome-markers.css%22/%3E%0A%20%20%20%20%3Clink%20rel%3D%22stylesheet%22%20href%3D%22https%3A//rawcdn.githack.com/python-visualization/folium/master/folium/templates/leaflet.awesome.rotate.css%22/%3E%0A%20%20%20%20%3Cstyle%3Ehtml%2C%20body%20%7Bwidth%3A%20100%25%3Bheight%3A%20100%25%3Bmargin%3A%200%3Bpadding%3A%200%3B%7D%3C/style%3E%0A%20%20%20%20%3Cstyle%3E%23map%20%7Bposition%3Aabsolute%3Btop%3A0%3Bbottom%3A0%3Bright%3A0%3Bleft%3A0%3B%7D%3C/style%3E%0A%20%20%20%20%0A%20%20%20%20%3Cmeta%20name%3D%22viewport%22%20content%3D%22width%3Ddevice-width%2C%0A%20%20%20%20%20%20%20%20initial-scale%3D1.0%2C%20maximum-scale%3D1.0%2C%20user-scalable%3Dno%22%20/%3E%0A%20%20%20%20%3Cstyle%3E%23map_65fb7baedf9e43339b071c8b4586edf2%20%7B%0A%20%20%20%20%20%20%20%20position%3A%20relative%3B%0A%20%20%20%20%20%20%20%20width%3A%20100.0%25%3B%0A%20%20%20%20%20%20%20%20height%3A%2080.0%25%3B%0A%20%20%20%20%20%20%20%20left%3A%200.0%25%3B%0A%20%20%20%20%20%20%20%20top%3A%200.0%25%3B%0A%20%20%20%20%20%20%20%20%7D%0A%20%20%20%20%3C/style%3E%0A%3C/head%3E%0A%3Cbody%3E%20%20%20%20%0A%20%20%20%20%0A%20%20%20%20%3Cdiv%20class%3D%22folium-map%22%20id%3D%22map_65fb7baedf9e43339b071c8b4586edf2%22%20%3E%3C/div%3E%0A%3C/body%3E%0A%3Cscript%3E%20%20%20%20%0A%20%20%20%20%0A%20%20%20%20%0A%20%20%20%20%20%20%20%20var%20bounds%20%3D%20null%3B%0A%20%20%20%20%0A%0A%20%20%20%20var%20map_65fb7baedf9e43339b071c8b4586edf2%20%3D%20L.map%28%0A%20%20%20%20%20%20%20%20%27map_65fb7baedf9e43339b071c8b4586edf2%27%2C%20%7B%0A%20%20%20%20%20%20%20%20center%3A%20%5B16.49%2C%20120.656%5D%2C%0A%20%20%20%20%20%20%20%20zoom%3A%208%2C%0A%20%20%20%20%20%20%20%20maxBounds%3A%20bounds%2C%0A%20%20%20%20%20%20%20%20layers%3A%20%5B%5D%2C%0A%20%20%20%20%20%20%20%20worldCopyJump%3A%20false%2C%0A%20%20%20%20%20%20%20%20crs%3A%20L.CRS.EPSG3857%2C%0A%20%20%20%20%20%20%20%20zoomControl%3A%20true%2C%0A%20%20%20%20%20%20%20%20%7D%29%3B%0AL.control.scale%28%29.addTo%28map_65fb7baedf9e43339b071c8b4586edf2%29%3B%0A%0A%20%20%20%20%0A%20%20%20%20var%20tile_layer_65fc68403f9442ad87d1b2e198ff0fd2%20%3D%20L.tileLayer%28%0A%20%20%20%20%20%20%20%20%27https%3A//%7Bs%7D.tile.openstreetmap.org/%7Bz%7D/%7Bx%7D/%7By%7D.png%27%2C%0A%20%20%20%20%20%20%20%20%7B%0A%20%20%20%20%20%20%20%20%22attribution%22%3A%20null%2C%0A%20%20%20%20%20%20%20%20%22detectRetina%22%3A%20false%2C%0A%20%20%20%20%20%20%20%20%22maxNativeZoom%22%3A%2018%2C%0A%20%20%20%20%20%20%20%20%22maxZoom%22%3A%2018%2C%0A%20%20%20%20%20%20%20%20%22minZoom%22%3A%200%2C%0A%20%20%20%20%20%20%20%20%22noWrap%22%3A%20false%2C%0A%20%20%20%20%20%20%20%20%22opacity%22%3A%201%2C%0A%20%20%20%20%20%20%20%20%22subdomains%22%3A%20%22abc%22%2C%0A%20%20%20%20%20%20%20%20%22tms%22%3A%20false%0A%7D%29.addTo%28map_65fb7baedf9e43339b071c8b4586edf2%29%3B%0A%20%20%20%20var%20tile_layer_4e6c4285dcb74fc981478579f1e27810%20%3D%20L.tileLayer%28%0A%20%20%20%20%20%20%20%20%27https%3A//earthengine.googleapis.com/v1alpha/projects/earthengine-legacy/maps/d407d4898232b1428d6baf304df216dc-8b72ee53f952cfa7c707c49103e093c1/tiles/%7Bz%7D/%7Bx%7D/%7By%7D%27%2C%0A%20%20%20%20%20%20%20%20%7B%0A%20%20%20%20%20%20%20%20%22attribution%22%3A%20%22Map%20Data%20%26copy%3B%20%3Ca%20href%3D%5C%22https%3A//earthengine.google.com/%5C%22%3EGoogle%20Earth%20Engine%3C/a%3E%22%2C%0A%20%20%20%20%20%20%20%20%22detectRetina%22%3A%20false%2C%0A%20%20%20%20%20%20%20%20%22maxNativeZoom%22%3A%2018%2C%0A%20%20%20%20%20%20%20%20%22maxZoom%22%3A%2018%2C%0A%20%20%20%20%20%20%20%20%22minZoom%22%3A%200%2C%0A%20%20%20%20%20%20%20%20%22noWrap%22%3A%20false%2C%0A%20%20%20%20%20%20%20%20%22opacity%22%3A%201%2C%0A%20%20%20%20%20%20%20%20%22subdomains%22%3A%20%22abc%22%2C%0A%20%20%20%20%20%20%20%20%22tms%22%3A%20false%0A%7D%29.addTo%28map_65fb7baedf9e43339b071c8b4586edf2%29%3B%0A%20%20%20%20var%20tile_layer_81f64fbd007e42919889cfb692a7dd7f%20%3D%20L.tileLayer%28%0A%20%20%20%20%20%20%20%20%27https%3A//earthengine.googleapis.com/v1alpha/projects/earthengine-legacy/maps/f18d96de118aa157552c1d26235c827d-a15bd80cd3b71febf85ec9390e24a6b9/tiles/%7Bz%7D/%7Bx%7D/%7By%7D%27%2C%0A%20%20%20%20%20%20%20%20%7B%0A%20%20%20%20%20%20%20%20%22attribution%22%3A%20%22Map%20Data%20%26copy%3B%20%3Ca%20href%3D%5C%22https%3A//earthengine.google.com/%5C%22%3EGoogle%20Earth%20Engine%3C/a%3E%22%2C%0A%20%20%20%20%20%20%20%20%22detectRetina%22%3A%20false%2C%0A%20%20%20%20%20%20%20%20%22maxNativeZoom%22%3A%2018%2C%0A%20%20%20%20%20%20%20%20%22maxZoom%22%3A%2018%2C%0A%20%20%20%20%20%20%20%20%22minZoom%22%3A%200%2C%0A%20%20%20%20%20%20%20%20%22noWrap%22%3A%20false%2C%0A%20%20%20%20%20%20%20%20%22opacity%22%3A%201%2C%0A%20%20%20%20%20%20%20%20%22subdomains%22%3A%20%22abc%22%2C%0A%20%20%20%20%20%20%20%20%22tms%22%3A%20false%0A%7D%29.addTo%28map_65fb7baedf9e43339b071c8b4586edf2%29%3B%0A%20%20%20%20var%20tile_layer_4f1cf34bf1ec49e18ad30d33c3f21c6a%20%3D%20L.tileLayer%28%0A%20%20%20%20%20%20%20%20%27https%3A//earthengine.googleapis.com/v1alpha/projects/earthengine-legacy/maps/48e5141cb2d7e3b97da82dce04b74d5d-9b16369f2f736f9afe04bf2e49e64b70/tiles/%7Bz%7D/%7Bx%7D/%7By%7D%27%2C%0A%20%20%20%20%20%20%20%20%7B%0A%20%20%20%20%20%20%20%20%22attribution%22%3A%20%22Map%20Data%20%26copy%3B%20%3Ca%20href%3D%5C%22https%3A//earthengine.google.com/%5C%22%3EGoogle%20Earth%20Engine%3C/a%3E%22%2C%0A%20%20%20%20%20%20%20%20%22detectRetina%22%3A%20false%2C%0A%20%20%20%20%20%20%20%20%22maxNativeZoom%22%3A%2018%2C%0A%20%20%20%20%20%20%20%20%22maxZoom%22%3A%2018%2C%0A%20%20%20%20%20%20%20%20%22minZoom%22%3A%200%2C%0A%20%20%20%20%20%20%20%20%22noWrap%22%3A%20false%2C%0A%20%20%20%20%20%20%20%20%22opacity%22%3A%201%2C%0A%20%20%20%20%20%20%20%20%22subdomains%22%3A%20%22abc%22%2C%0A%20%20%20%20%20%20%20%20%22tms%22%3A%20false%0A%7D%29.addTo%28map_65fb7baedf9e43339b071c8b4586edf2%29%3B%0A%20%20%20%20var%20tile_layer_a1839f4c8bb34df79e04b5118c3fc089%20%3D%20L.tileLayer%28%0A%20%20%20%20%20%20%20%20%27https%3A//earthengine.googleapis.com/v1alpha/projects/earthengine-legacy/maps/e59b4e6f2b07a5c7ebbfc5bd47876ddb-10386ae8b1df818560e87bbd9c16779a/tiles/%7Bz%7D/%7Bx%7D/%7By%7D%27%2C%0A%20%20%20%20%20%20%20%20%7B%0A%20%20%20%20%20%20%20%20%22attribution%22%3A%20%22Map%20Data%20%26copy%3B%20%3Ca%20href%3D%5C%22https%3A//earthengine.google.com/%5C%22%3EGoogle%20Earth%20Engine%3C/a%3E%22%2C%0A%20%20%20%20%20%20%20%20%22detectRetina%22%3A%20false%2C%0A%20%20%20%20%20%20%20%20%22maxNativeZoom%22%3A%2018%2C%0A%20%20%20%20%20%20%20%20%22maxZoom%22%3A%2018%2C%0A%20%20%20%20%20%20%20%20%22minZoom%22%3A%200%2C%0A%20%20%20%20%20%20%20%20%22noWrap%22%3A%20false%2C%0A%20%20%20%20%20%20%20%20%22opacity%22%3A%201%2C%0A%20%20%20%20%20%20%20%20%22subdomains%22%3A%20%22abc%22%2C%0A%20%20%20%20%20%20%20%20%22tms%22%3A%20false%0A%7D%29.addTo%28map_65fb7baedf9e43339b071c8b4586edf2%29%3B%0A%20%20%20%20var%20tile_layer_49d0159195a948b5af891d144e45cf16%20%3D%20L.tileLayer%28%0A%20%20%20%20%20%20%20%20%27https%3A//earthengine.googleapis.com/v1alpha/projects/earthengine-legacy/maps/fa2d2c377d3709e39b677cea21d4cef4-52e8bb53e237b4c650470d7354173a80/tiles/%7Bz%7D/%7Bx%7D/%7By%7D%27%2C%0A%20%20%20%20%20%20%20%20%7B%0A%20%20%20%20%20%20%20%20%22attribution%22%3A%20%22Map%20Data%20%26copy%3B%20%3Ca%20href%3D%5C%22https%3A//earthengine.google.com/%5C%22%3EGoogle%20Earth%20Engine%3C/a%3E%22%2C%0A%20%20%20%20%20%20%20%20%22detectRetina%22%3A%20false%2C%0A%20%20%20%20%20%20%20%20%22maxNativeZoom%22%3A%2018%2C%0A%20%20%20%20%20%20%20%20%22maxZoom%22%3A%2018%2C%0A%20%20%20%20%20%20%20%20%22minZoom%22%3A%200%2C%0A%20%20%20%20%20%20%20%20%22noWrap%22%3A%20false%2C%0A%20%20%20%20%20%20%20%20%22opacity%22%3A%201%2C%0A%20%20%20%20%20%20%20%20%22subdomains%22%3A%20%22abc%22%2C%0A%20%20%20%20%20%20%20%20%22tms%22%3A%20false%0A%7D%29.addTo%28map_65fb7baedf9e43339b071c8b4586edf2%29%3B%0A%20%20%20%20%0A%20%20%20%20%20%20%20%20var%20marker_36358f951c1f412da0087d1fdd48362f%20%3D%20L.marker%28%0A%20%20%20%20%20%20%20%20%20%20%20%20%5B16.49%2C%20120.656%5D%2C%0A%20%20%20%20%20%20%20%20%20%20%20%20%7B%0A%20%20%20%20%20%20%20%20%20%20%20%20%20%20%20%20icon%3A%20new%20L.Icon.Default%28%29%2C%0A%20%20%20%20%20%20%20%20%20%20%20%20%20%20%20%20%7D%0A%20%20%20%20%20%20%20%20%20%20%20%20%29.addTo%28map_65fb7baedf9e43339b071c8b4586edf2%29%3B%0A%20%20%20%20%20%20%20%20%0A%20%20%20%20%0A%20%20%20%20%20%20%20%20marker_36358f951c1f412da0087d1fdd48362f.bindTooltip%28%0A%20%20%20%20%20%20%20%20%20%20%20%20%60%3Cdiv%3E%60%0A%20%20%20%20%20%20%20%20%20%20%20%20%2B%20%60Santo%20Ni%C3%B1o%20Mine%60%20%2B%20%60%3C/div%3E%60%2C%0A%20%20%20%20%20%20%20%20%20%20%20%20%7B%22sticky%22%3A%20true%7D%0A%20%20%20%20%20%20%20%20%29%3B%0A%20%20%20%20%20%20%20%20%0A%20%20%20%20%0A%20%20%20%20%20%20%20%20%20%20%20%20var%20layer_control_9553a0ea9d2e4ec6ba33b3bba33a9ed4%20%3D%20%7B%0A%20%20%20%20%20%20%20%20%20%20%20%20%20%20%20%20base_layers%20%3A%20%7B%20%22openstreetmap%22%20%3A%20tile_layer_65fc68403f9442ad87d1b2e198ff0fd2%2C%20%7D%2C%0A%20%20%20%20%20%20%20%20%20%20%20%20%20%20%20%20overlays%20%3A%20%7B%20%22Sentinel%202%20%202021-06-16%2002%3A33%3A09%22%20%3A%20tile_layer_4e6c4285dcb74fc981478579f1e27810%2C%22Sentinel%202%20%202019-06-02%2002%3A33%3A10%22%20%3A%20tile_layer_81f64fbd007e42919889cfb692a7dd7f%2C%22Landsat%207%20%202002-09-26%2002%3A04%3A47%22%20%3A%20tile_layer_4f1cf34bf1ec49e18ad30d33c3f21c6a%2C%22Landsat%208%20%202014-09-26%2002%3A22%3A54%22%20%3A%20tile_layer_a1839f4c8bb34df79e04b5118c3fc089%2C%22Landsat%208%20%202021-07-11%2002%3A22%3A43%22%20%3A%20tile_layer_49d0159195a948b5af891d144e45cf16%2C%20%7D%0A%20%20%20%20%20%20%20%20%20%20%20%20%20%20%20%20%7D%3B%0A%20%20%20%20%20%20%20%20%20%20%20%20L.control.layers%28%0A%20%20%20%20%20%20%20%20%20%20%20%20%20%20%20%20layer_control_9553a0ea9d2e4ec6ba33b3bba33a9ed4.base_layers%2C%0A%20%20%20%20%20%20%20%20%20%20%20%20%20%20%20%20layer_control_9553a0ea9d2e4ec6ba33b3bba33a9ed4.overlays%2C%0A%20%20%20%20%20%20%20%20%20%20%20%20%20%20%20%20%7Bposition%3A%20%27topright%27%2C%0A%20%20%20%20%20%20%20%20%20%20%20%20%20%20%20%20%20collapsed%3A%20true%2C%0A%20%20%20%20%20%20%20%20%20%20%20%20%20%20%20%20%20autoZIndex%3A%20true%0A%20%20%20%20%20%20%20%20%20%20%20%20%20%20%20%20%7D%29.addTo%28map_65fb7baedf9e43339b071c8b4586edf2%29%3B%0A%20%20%20%20%20%20%20%20%20%20%20%20%0A%20%20%20%20%20%20%20%20%0A%3C/script%3E onload=\"this.contentDocument.open();this.contentDocument.write(    decodeURIComponent(this.getAttribute('data-html')));this.contentDocument.close();\" allowfullscreen webkitallowfullscreen mozallowfullscreen></iframe></div></div>"
            ],
            "text/plain": [
              "<folium.folium.Map at 0x7f597449bdd0>"
            ]
          },
          "metadata": {
            "tags": []
          }
        }
      ]
    },
    {
      "cell_type": "markdown",
      "metadata": {
        "id": "M5HVgV-TcsXE"
      },
      "source": [
        "# Download the satellite image in GeoTiff through a url\n",
        "cannot excess 33554432 bytes"
      ]
    },
    {
      "cell_type": "code",
      "metadata": {
        "colab": {
          "base_uri": "https://localhost:8080/"
        },
        "id": "5LgU9cCtXarY",
        "outputId": "1880b1e5-e4bb-41f9-a8f2-f53a27c1d02c"
      },
      "source": [
        "# Define an area to download\n",
        "area = aoi.buffer(5000) # meters\n",
        "\n",
        "# getDownloadURL will output the url\n",
        "path = lan_8.getDownloadURL({'name':\"Gee sentinel 2\",'region':area})\n",
        "\n",
        "print(path)"
      ],
      "execution_count": null,
      "outputs": [
        {
          "output_type": "stream",
          "text": [
            "https://earthengine.googleapis.com/v1alpha/projects/earthengine-legacy/thumbnails/a1fc06c3cfce3152e7a61716d1053642-0e78766bb440aa85b75c8861e333b35e:getPixels\n"
          ],
          "name": "stdout"
        }
      ]
    },
    {
      "cell_type": "markdown",
      "metadata": {
        "id": "LQ24EZlpmUd7"
      },
      "source": [
        "# <u>Resampling </u>\n"
      ]
    },
    {
      "cell_type": "code",
      "metadata": {
        "id": "vWyD3xJDmUJF"
      },
      "source": [
        "# Define a new map\n",
        "map_2 = folium.Map(location=[16.49, 120.656], zoom_start=8, height='80%', control_scale = True)  # [lat, lon]"
      ],
      "execution_count": null,
      "outputs": []
    },
    {
      "cell_type": "code",
      "metadata": {
        "id": "fxEWXd17WCZ_"
      },
      "source": [
        "'''ast_m = (ee.ImageCollection(\"ASTER/AST_L1T_003\"))\n",
        "ast_m.select(['B3N', 'B02', 'B01']).filterDate('2014-06-01', '2014-08-30')\n",
        "# Add the image layer to the map and display it.\n",
        "map_1.add_ee_layer(\n",
        "    ast_m.median(), {'bands': ['B3N', 'B02', 'B01'], 'min': 1, 'max': 255}, \"False Aster\" )\n",
        "'''\n",
        "ast_ = (ee.ImageCollection(\"ASTER/AST_L1T_003\")\n",
        "  .filterBounds(aoi) #[lon, lat]\n",
        "  .filterDate('2009-06-01', '2011-09-30')\n",
        "  .sort('CLOUDCOVER')\n",
        "  .first())\n",
        "\n",
        "# As the Aster collection in GEE is not complete, some bands might be missing in some images\n",
        "# Below is to check whether the image we selected contains the bands we trying to display or not\n",
        "for a in ['B3N', 'B02', 'B01']:\n",
        "  if a not in ast_.getInfo()['properties']['ORIGINAL_BANDS_PRESENT']:\n",
        "    print('No required bands')\n",
        "    break\n",
        "\n",
        "map_2.add_ee_layer(\n",
        "    ast_, {'bands': ['B3N', 'B02', 'B01'], 'min': 10, 'max': 255}, image_name(ast_, 'Aster  '))\n",
        "\n",
        "\n",
        "# SHould be 2010-02-11 02:40:31"
      ],
      "execution_count": null,
      "outputs": []
    },
    {
      "cell_type": "code",
      "metadata": {
        "id": "Cp4Dh7SOlmA1"
      },
      "source": [
        "# Nearest neighbour resampling, changing the pixel size from 15m to 10m\n",
        "ast_reproject = ast_.reproject(crs='EPSG:32651',scale=10)\n",
        "map_2.add_ee_layer(\n",
        "    ast_reproject, {'bands': ['B3N', 'B02', 'B01'], 'min': 10, 'max': 255}, 'Nearest neighbour 15m>10m')\n",
        "\n",
        "\n",
        "# The resample() method only take in arguments of 'bilinear' or 'bicubic'\n",
        "# Smooth the image\n",
        "\n",
        "# Bilinear resampling\n",
        "ast_resampled_a = ast_.resample(mode='bilinear')\n",
        "map_2.add_ee_layer(\n",
        "    ast_resampled_a, {'bands': ['B3N', 'B02', 'B01'], 'min': 10, 'max': 255}, 'bilinear')\n",
        "\n",
        "# Bicubic resampling (aka. cubic convoluion)\n",
        "ast_resampled_b = ast_.resample('bicubic')\n",
        "map_2.add_ee_layer(\n",
        "    ast_resampled_b, {'bands': ['B3N', 'B02', 'B01'], 'min': 10, 'max': 255}, 'bicubic')"
      ],
      "execution_count": null,
      "outputs": []
    },
    {
      "cell_type": "code",
      "metadata": {
        "colab": {
          "base_uri": "https://localhost:8080/",
          "height": 730
        },
        "id": "6lvhZzh6odB4",
        "outputId": "bcaeec2d-a349-43e3-f070-20de83ea96ea"
      },
      "source": [
        "# Adding a marker for the mining site\n",
        "folium.Marker(location=[16.49, 120.656], tooltip=\"Santo Niño Mine\").add_to(map_2) #[lat, lon]\n",
        "\n",
        "\n",
        "# Add a layer control panel to the map.\n",
        "map_2.add_child(folium.LayerControl())\n",
        "\n",
        "display(map_2)"
      ],
      "execution_count": null,
      "outputs": [
        {
          "output_type": "display_data",
          "data": {
            "text/html": [
              "<div style=\"width:100%;\"><div style=\"position:relative;width:100%;height:0;padding-bottom:60%;\"><span style=\"color:#565656\">Make this Notebook Trusted to load map: File -> Trust Notebook</span><iframe src=\"about:blank\" style=\"position:absolute;width:100%;height:100%;left:0;top:0;border:none !important;\" data-html=%3C%21DOCTYPE%20html%3E%0A%3Chead%3E%20%20%20%20%0A%20%20%20%20%3Cmeta%20http-equiv%3D%22content-type%22%20content%3D%22text/html%3B%20charset%3DUTF-8%22%20/%3E%0A%20%20%20%20%3Cscript%3EL_PREFER_CANVAS%3Dfalse%3B%20L_NO_TOUCH%3Dfalse%3B%20L_DISABLE_3D%3Dfalse%3B%3C/script%3E%0A%20%20%20%20%3Cscript%20src%3D%22https%3A//cdn.jsdelivr.net/npm/leaflet%401.4.0/dist/leaflet.js%22%3E%3C/script%3E%0A%20%20%20%20%3Cscript%20src%3D%22https%3A//code.jquery.com/jquery-1.12.4.min.js%22%3E%3C/script%3E%0A%20%20%20%20%3Cscript%20src%3D%22https%3A//maxcdn.bootstrapcdn.com/bootstrap/3.2.0/js/bootstrap.min.js%22%3E%3C/script%3E%0A%20%20%20%20%3Cscript%20src%3D%22https%3A//cdnjs.cloudflare.com/ajax/libs/Leaflet.awesome-markers/2.0.2/leaflet.awesome-markers.js%22%3E%3C/script%3E%0A%20%20%20%20%3Clink%20rel%3D%22stylesheet%22%20href%3D%22https%3A//cdn.jsdelivr.net/npm/leaflet%401.4.0/dist/leaflet.css%22/%3E%0A%20%20%20%20%3Clink%20rel%3D%22stylesheet%22%20href%3D%22https%3A//maxcdn.bootstrapcdn.com/bootstrap/3.2.0/css/bootstrap.min.css%22/%3E%0A%20%20%20%20%3Clink%20rel%3D%22stylesheet%22%20href%3D%22https%3A//maxcdn.bootstrapcdn.com/bootstrap/3.2.0/css/bootstrap-theme.min.css%22/%3E%0A%20%20%20%20%3Clink%20rel%3D%22stylesheet%22%20href%3D%22https%3A//maxcdn.bootstrapcdn.com/font-awesome/4.6.3/css/font-awesome.min.css%22/%3E%0A%20%20%20%20%3Clink%20rel%3D%22stylesheet%22%20href%3D%22https%3A//cdnjs.cloudflare.com/ajax/libs/Leaflet.awesome-markers/2.0.2/leaflet.awesome-markers.css%22/%3E%0A%20%20%20%20%3Clink%20rel%3D%22stylesheet%22%20href%3D%22https%3A//rawcdn.githack.com/python-visualization/folium/master/folium/templates/leaflet.awesome.rotate.css%22/%3E%0A%20%20%20%20%3Cstyle%3Ehtml%2C%20body%20%7Bwidth%3A%20100%25%3Bheight%3A%20100%25%3Bmargin%3A%200%3Bpadding%3A%200%3B%7D%3C/style%3E%0A%20%20%20%20%3Cstyle%3E%23map%20%7Bposition%3Aabsolute%3Btop%3A0%3Bbottom%3A0%3Bright%3A0%3Bleft%3A0%3B%7D%3C/style%3E%0A%20%20%20%20%0A%20%20%20%20%3Cmeta%20name%3D%22viewport%22%20content%3D%22width%3Ddevice-width%2C%0A%20%20%20%20%20%20%20%20initial-scale%3D1.0%2C%20maximum-scale%3D1.0%2C%20user-scalable%3Dno%22%20/%3E%0A%20%20%20%20%3Cstyle%3E%23map_fc7f003105a149a48958feed5b7bd76d%20%7B%0A%20%20%20%20%20%20%20%20position%3A%20relative%3B%0A%20%20%20%20%20%20%20%20width%3A%20100.0%25%3B%0A%20%20%20%20%20%20%20%20height%3A%2080.0%25%3B%0A%20%20%20%20%20%20%20%20left%3A%200.0%25%3B%0A%20%20%20%20%20%20%20%20top%3A%200.0%25%3B%0A%20%20%20%20%20%20%20%20%7D%0A%20%20%20%20%3C/style%3E%0A%3C/head%3E%0A%3Cbody%3E%20%20%20%20%0A%20%20%20%20%0A%20%20%20%20%3Cdiv%20class%3D%22folium-map%22%20id%3D%22map_fc7f003105a149a48958feed5b7bd76d%22%20%3E%3C/div%3E%0A%3C/body%3E%0A%3Cscript%3E%20%20%20%20%0A%20%20%20%20%0A%20%20%20%20%0A%20%20%20%20%20%20%20%20var%20bounds%20%3D%20null%3B%0A%20%20%20%20%0A%0A%20%20%20%20var%20map_fc7f003105a149a48958feed5b7bd76d%20%3D%20L.map%28%0A%20%20%20%20%20%20%20%20%27map_fc7f003105a149a48958feed5b7bd76d%27%2C%20%7B%0A%20%20%20%20%20%20%20%20center%3A%20%5B16.49%2C%20120.656%5D%2C%0A%20%20%20%20%20%20%20%20zoom%3A%208%2C%0A%20%20%20%20%20%20%20%20maxBounds%3A%20bounds%2C%0A%20%20%20%20%20%20%20%20layers%3A%20%5B%5D%2C%0A%20%20%20%20%20%20%20%20worldCopyJump%3A%20false%2C%0A%20%20%20%20%20%20%20%20crs%3A%20L.CRS.EPSG3857%2C%0A%20%20%20%20%20%20%20%20zoomControl%3A%20true%2C%0A%20%20%20%20%20%20%20%20%7D%29%3B%0AL.control.scale%28%29.addTo%28map_fc7f003105a149a48958feed5b7bd76d%29%3B%0A%0A%20%20%20%20%0A%20%20%20%20var%20tile_layer_1fea8091fff54318b69655bf763f428f%20%3D%20L.tileLayer%28%0A%20%20%20%20%20%20%20%20%27https%3A//%7Bs%7D.tile.openstreetmap.org/%7Bz%7D/%7Bx%7D/%7By%7D.png%27%2C%0A%20%20%20%20%20%20%20%20%7B%0A%20%20%20%20%20%20%20%20%22attribution%22%3A%20null%2C%0A%20%20%20%20%20%20%20%20%22detectRetina%22%3A%20false%2C%0A%20%20%20%20%20%20%20%20%22maxNativeZoom%22%3A%2018%2C%0A%20%20%20%20%20%20%20%20%22maxZoom%22%3A%2018%2C%0A%20%20%20%20%20%20%20%20%22minZoom%22%3A%200%2C%0A%20%20%20%20%20%20%20%20%22noWrap%22%3A%20false%2C%0A%20%20%20%20%20%20%20%20%22opacity%22%3A%201%2C%0A%20%20%20%20%20%20%20%20%22subdomains%22%3A%20%22abc%22%2C%0A%20%20%20%20%20%20%20%20%22tms%22%3A%20false%0A%7D%29.addTo%28map_fc7f003105a149a48958feed5b7bd76d%29%3B%0A%20%20%20%20var%20tile_layer_49037b303e1a444aaf88bcca175b7df6%20%3D%20L.tileLayer%28%0A%20%20%20%20%20%20%20%20%27https%3A//earthengine.googleapis.com/v1alpha/projects/earthengine-legacy/maps/c2492f3fb7eb7624741bffe40f986a07-b145bf4e9a329264cacd2732c2dda669/tiles/%7Bz%7D/%7Bx%7D/%7By%7D%27%2C%0A%20%20%20%20%20%20%20%20%7B%0A%20%20%20%20%20%20%20%20%22attribution%22%3A%20%22Map%20Data%20%26copy%3B%20%3Ca%20href%3D%5C%22https%3A//earthengine.google.com/%5C%22%3EGoogle%20Earth%20Engine%3C/a%3E%22%2C%0A%20%20%20%20%20%20%20%20%22detectRetina%22%3A%20false%2C%0A%20%20%20%20%20%20%20%20%22maxNativeZoom%22%3A%2018%2C%0A%20%20%20%20%20%20%20%20%22maxZoom%22%3A%2018%2C%0A%20%20%20%20%20%20%20%20%22minZoom%22%3A%200%2C%0A%20%20%20%20%20%20%20%20%22noWrap%22%3A%20false%2C%0A%20%20%20%20%20%20%20%20%22opacity%22%3A%201%2C%0A%20%20%20%20%20%20%20%20%22subdomains%22%3A%20%22abc%22%2C%0A%20%20%20%20%20%20%20%20%22tms%22%3A%20false%0A%7D%29.addTo%28map_fc7f003105a149a48958feed5b7bd76d%29%3B%0A%20%20%20%20var%20tile_layer_b243f7c1fcac4361b6ad33f068365f8b%20%3D%20L.tileLayer%28%0A%20%20%20%20%20%20%20%20%27https%3A//earthengine.googleapis.com/v1alpha/projects/earthengine-legacy/maps/7c6626da5639f13c7659ad5885703c09-8beafd289fab1639ec0967772d1d8e49/tiles/%7Bz%7D/%7Bx%7D/%7By%7D%27%2C%0A%20%20%20%20%20%20%20%20%7B%0A%20%20%20%20%20%20%20%20%22attribution%22%3A%20%22Map%20Data%20%26copy%3B%20%3Ca%20href%3D%5C%22https%3A//earthengine.google.com/%5C%22%3EGoogle%20Earth%20Engine%3C/a%3E%22%2C%0A%20%20%20%20%20%20%20%20%22detectRetina%22%3A%20false%2C%0A%20%20%20%20%20%20%20%20%22maxNativeZoom%22%3A%2018%2C%0A%20%20%20%20%20%20%20%20%22maxZoom%22%3A%2018%2C%0A%20%20%20%20%20%20%20%20%22minZoom%22%3A%200%2C%0A%20%20%20%20%20%20%20%20%22noWrap%22%3A%20false%2C%0A%20%20%20%20%20%20%20%20%22opacity%22%3A%201%2C%0A%20%20%20%20%20%20%20%20%22subdomains%22%3A%20%22abc%22%2C%0A%20%20%20%20%20%20%20%20%22tms%22%3A%20false%0A%7D%29.addTo%28map_fc7f003105a149a48958feed5b7bd76d%29%3B%0A%20%20%20%20var%20tile_layer_a46fdd3518bb4af593f2999eff8537bf%20%3D%20L.tileLayer%28%0A%20%20%20%20%20%20%20%20%27https%3A//earthengine.googleapis.com/v1alpha/projects/earthengine-legacy/maps/5493ed8c2115fd2924177a362312388a-06d36fc5a018b672040abd8d1b0ff2c6/tiles/%7Bz%7D/%7Bx%7D/%7By%7D%27%2C%0A%20%20%20%20%20%20%20%20%7B%0A%20%20%20%20%20%20%20%20%22attribution%22%3A%20%22Map%20Data%20%26copy%3B%20%3Ca%20href%3D%5C%22https%3A//earthengine.google.com/%5C%22%3EGoogle%20Earth%20Engine%3C/a%3E%22%2C%0A%20%20%20%20%20%20%20%20%22detectRetina%22%3A%20false%2C%0A%20%20%20%20%20%20%20%20%22maxNativeZoom%22%3A%2018%2C%0A%20%20%20%20%20%20%20%20%22maxZoom%22%3A%2018%2C%0A%20%20%20%20%20%20%20%20%22minZoom%22%3A%200%2C%0A%20%20%20%20%20%20%20%20%22noWrap%22%3A%20false%2C%0A%20%20%20%20%20%20%20%20%22opacity%22%3A%201%2C%0A%20%20%20%20%20%20%20%20%22subdomains%22%3A%20%22abc%22%2C%0A%20%20%20%20%20%20%20%20%22tms%22%3A%20false%0A%7D%29.addTo%28map_fc7f003105a149a48958feed5b7bd76d%29%3B%0A%20%20%20%20var%20tile_layer_734d839e10b648e5b5fe8a4cae843d25%20%3D%20L.tileLayer%28%0A%20%20%20%20%20%20%20%20%27https%3A//earthengine.googleapis.com/v1alpha/projects/earthengine-legacy/maps/f059a6c0a8fd85a984cfc02fd858ef94-80886a03b449aa5f5dca5ea914960ca3/tiles/%7Bz%7D/%7Bx%7D/%7By%7D%27%2C%0A%20%20%20%20%20%20%20%20%7B%0A%20%20%20%20%20%20%20%20%22attribution%22%3A%20%22Map%20Data%20%26copy%3B%20%3Ca%20href%3D%5C%22https%3A//earthengine.google.com/%5C%22%3EGoogle%20Earth%20Engine%3C/a%3E%22%2C%0A%20%20%20%20%20%20%20%20%22detectRetina%22%3A%20false%2C%0A%20%20%20%20%20%20%20%20%22maxNativeZoom%22%3A%2018%2C%0A%20%20%20%20%20%20%20%20%22maxZoom%22%3A%2018%2C%0A%20%20%20%20%20%20%20%20%22minZoom%22%3A%200%2C%0A%20%20%20%20%20%20%20%20%22noWrap%22%3A%20false%2C%0A%20%20%20%20%20%20%20%20%22opacity%22%3A%201%2C%0A%20%20%20%20%20%20%20%20%22subdomains%22%3A%20%22abc%22%2C%0A%20%20%20%20%20%20%20%20%22tms%22%3A%20false%0A%7D%29.addTo%28map_fc7f003105a149a48958feed5b7bd76d%29%3B%0A%20%20%20%20%0A%20%20%20%20%20%20%20%20var%20marker_e224e1659e1549849c50db89c92f9717%20%3D%20L.marker%28%0A%20%20%20%20%20%20%20%20%20%20%20%20%5B16.49%2C%20120.656%5D%2C%0A%20%20%20%20%20%20%20%20%20%20%20%20%7B%0A%20%20%20%20%20%20%20%20%20%20%20%20%20%20%20%20icon%3A%20new%20L.Icon.Default%28%29%2C%0A%20%20%20%20%20%20%20%20%20%20%20%20%20%20%20%20%7D%0A%20%20%20%20%20%20%20%20%20%20%20%20%29.addTo%28map_fc7f003105a149a48958feed5b7bd76d%29%3B%0A%20%20%20%20%20%20%20%20%0A%20%20%20%20%0A%20%20%20%20%20%20%20%20marker_e224e1659e1549849c50db89c92f9717.bindTooltip%28%0A%20%20%20%20%20%20%20%20%20%20%20%20%60%3Cdiv%3E%60%0A%20%20%20%20%20%20%20%20%20%20%20%20%2B%20%60Santo%20Ni%C3%B1o%20Mine%60%20%2B%20%60%3C/div%3E%60%2C%0A%20%20%20%20%20%20%20%20%20%20%20%20%7B%22sticky%22%3A%20true%7D%0A%20%20%20%20%20%20%20%20%29%3B%0A%20%20%20%20%20%20%20%20%0A%20%20%20%20%0A%20%20%20%20%20%20%20%20%20%20%20%20var%20layer_control_2236f36e3c6140b48916ed69e01c32c7%20%3D%20%7B%0A%20%20%20%20%20%20%20%20%20%20%20%20%20%20%20%20base_layers%20%3A%20%7B%20%22openstreetmap%22%20%3A%20tile_layer_1fea8091fff54318b69655bf763f428f%2C%20%7D%2C%0A%20%20%20%20%20%20%20%20%20%20%20%20%20%20%20%20overlays%20%3A%20%7B%20%22Aster%20%202010-02-11%2002%3A40%3A31%22%20%3A%20tile_layer_49037b303e1a444aaf88bcca175b7df6%2C%22Nearest%20neighbour%2015m%3E10m%22%20%3A%20tile_layer_b243f7c1fcac4361b6ad33f068365f8b%2C%22bilinear%22%20%3A%20tile_layer_a46fdd3518bb4af593f2999eff8537bf%2C%22bicubic%22%20%3A%20tile_layer_734d839e10b648e5b5fe8a4cae843d25%2C%20%7D%0A%20%20%20%20%20%20%20%20%20%20%20%20%20%20%20%20%7D%3B%0A%20%20%20%20%20%20%20%20%20%20%20%20L.control.layers%28%0A%20%20%20%20%20%20%20%20%20%20%20%20%20%20%20%20layer_control_2236f36e3c6140b48916ed69e01c32c7.base_layers%2C%0A%20%20%20%20%20%20%20%20%20%20%20%20%20%20%20%20layer_control_2236f36e3c6140b48916ed69e01c32c7.overlays%2C%0A%20%20%20%20%20%20%20%20%20%20%20%20%20%20%20%20%7Bposition%3A%20%27topright%27%2C%0A%20%20%20%20%20%20%20%20%20%20%20%20%20%20%20%20%20collapsed%3A%20true%2C%0A%20%20%20%20%20%20%20%20%20%20%20%20%20%20%20%20%20autoZIndex%3A%20true%0A%20%20%20%20%20%20%20%20%20%20%20%20%20%20%20%20%7D%29.addTo%28map_fc7f003105a149a48958feed5b7bd76d%29%3B%0A%20%20%20%20%20%20%20%20%20%20%20%20%0A%20%20%20%20%20%20%20%20%0A%3C/script%3E onload=\"this.contentDocument.open();this.contentDocument.write(    decodeURIComponent(this.getAttribute('data-html')));this.contentDocument.close();\" allowfullscreen webkitallowfullscreen mozallowfullscreen></iframe></div></div>"
            ],
            "text/plain": [
              "<folium.folium.Map at 0x7f5973cc2f50>"
            ]
          },
          "metadata": {
            "tags": []
          }
        }
      ]
    },
    {
      "cell_type": "code",
      "metadata": {
        "id": "Rr0_WppGFzYm"
      },
      "source": [
        "# Save the map into html file. \n",
        "map_2.save('../ast resample.html')  # File location randomly made up\n",
        "map_1.save('../landsat and sentinel.html')"
      ],
      "execution_count": null,
      "outputs": []
    }
  ]
}